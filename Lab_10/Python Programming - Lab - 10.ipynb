{
 "cells": [
  {
   "cell_type": "markdown",
   "metadata": {},
   "source": [
    "### Yashkant\n",
    "#### 21010101148"
   ]
  },
  {
   "cell_type": "markdown",
   "metadata": {},
   "source": [
    "<a href='https://www.darshan.ac.in/'> <img src='https://www.darshan.ac.in/Content/media/DU_Logo.svg' width=\"250\" height=\"300\"/></a>\n",
    "<pre>\n",
    "<center><b><h1>Python Programming - 2101CS405</b></center>\n",
    "<center><b><h1>Lab - 10</b></center>    \n",
    "<pre>"
   ]
  },
  {
   "cell_type": "markdown",
   "metadata": {},
   "source": [
    "# Modules"
   ]
  },
  {
   "cell_type": "markdown",
   "metadata": {},
   "source": [
    "# A"
   ]
  },
  {
   "cell_type": "markdown",
   "metadata": {},
   "source": [
    "### 01) WAP to create Calculator module which defines functions like add, sub,mul and div. create another file that uses the Calculator module."
   ]
  },
  {
   "cell_type": "code",
   "execution_count": 4,
   "metadata": {},
   "outputs": [
    {
     "name": "stdout",
     "output_type": "stream",
     "text": [
      "Sum is  5\n",
      "Difference is  3\n",
      "Product is  6\n",
      "Division is  5.0\n"
     ]
    }
   ],
   "source": [
    "import calc\n",
    "calc.add(2,3)\n",
    "calc.sub(5,2)\n",
    "calc.mul(3,2)\n",
    "calc.div(10,2)"
   ]
  },
  {
   "cell_type": "markdown",
   "metadata": {},
   "source": [
    "### 02) WAP to Pick a random character from a given String."
   ]
  },
  {
   "cell_type": "code",
   "execution_count": 11,
   "metadata": {},
   "outputs": [
    {
     "name": "stdout",
     "output_type": "stream",
     "text": [
      "r\n"
     ]
    }
   ],
   "source": [
    "import random as rd\n",
    "print(rd.choice(\"Yashkant Darshan B.tech\"))"
   ]
  },
  {
   "cell_type": "markdown",
   "metadata": {},
   "source": [
    "### 03) WAP to Pick a random element from a given list."
   ]
  },
  {
   "cell_type": "code",
   "execution_count": 12,
   "metadata": {},
   "outputs": [
    {
     "name": "stdout",
     "output_type": "stream",
     "text": [
      "124\n"
     ]
    }
   ],
   "source": [
    "import random as rd\n",
    "li = [10,30,20,78,43,6,12,124,1234,234,1241,4]\n",
    "print(rd.choice(li))"
   ]
  },
  {
   "cell_type": "markdown",
   "metadata": {},
   "source": [
    "### 04) WAP to demonstrate the use of the math module."
   ]
  },
  {
   "cell_type": "code",
   "execution_count": 14,
   "metadata": {},
   "outputs": [
    {
     "name": "stdout",
     "output_type": "stream",
     "text": [
      "e =  2.718281828459045\n",
      "Pie =  3.141592653589793\n",
      "tau =  6.283185307179586\n",
      "Ceil =  6\n",
      "Floor =  5\n",
      "Factorial =  30414093201713378043612608166064768844377641568960512000000000000\n",
      "GCD  15\n",
      "LCM  30\n",
      "Absolute  900000000000.0\n",
      "EXP  485165195.4097903\n",
      "POWER  1024.0\n",
      "Log 0.5\n",
      "Log Base 2  1.0\n",
      "Log Base 10  0.3010299956639812\n",
      "Radians  3.141592653589793\n",
      "Degrees  360.0\n",
      "Gamma  120.0\n"
     ]
    }
   ],
   "source": [
    "import math\n",
    "\n",
    "print(\"e = \",math.e)\n",
    "print(\"Pie = \",math.pi)\n",
    "print(\"tau = \",math.tau)\n",
    "print(\"Ceil = \",math.ceil(5.6))\n",
    "print(\"Floor = \",math.floor(5.6))\n",
    "print(\"Factorial = \",math.factorial(50))\n",
    "print(\"GCD \",math.gcd(15,30))\n",
    "print(\"LCM \",math.lcm(15,30))\n",
    "print(\"Absolute \",math.fabs(-900000000000))\n",
    "print(\"EXP \",math.exp(20))\n",
    "print(\"POWER \",math.pow(2,10))\n",
    "print(\"Log\",math.log(2,4))\n",
    "print(\"Log Base 2 \",math.log2(2))\n",
    "print(\"Log Base 10 \",math.log10(2))\n",
    "print(\"Radians \",math.radians(180))\n",
    "print(\"Degrees \",math.degrees(math.pi*2))\n",
    "print(\"Gamma \",math.gamma(6))"
   ]
  },
  {
   "cell_type": "markdown",
   "metadata": {},
   "source": [
    "### 05) WAP to demonstrate the use of date time module."
   ]
  },
  {
   "cell_type": "code",
   "execution_count": 17,
   "metadata": {},
   "outputs": [
    {
     "name": "stdout",
     "output_type": "stream",
     "text": [
      "Input Date :  2003-05-01\n",
      "Today Date :  2023-02-17\n",
      "2023-02-17\n",
      "2023\n",
      "2\n",
      "17\n",
      "10:30:05.001456\n",
      "10\n",
      "30\n",
      "5\n",
      "1456\n",
      "2003-07-05 12:12:12\n",
      "2023-02-17 10:47:14.302533\n",
      "2023-02-19 10:47:14.303523\n",
      "2023-02-03 10:47:14.303523\n",
      "Fri\n",
      "Friday\n",
      "02\n",
      "47\n",
      "23\n",
      "2023\n"
     ]
    }
   ],
   "source": [
    "import datetime as dt\n",
    "\n",
    "d = dt.date(2003,5,1)\n",
    "todayDate = dt.date.today()\n",
    "print(\"Input Date : \",d)\n",
    "print(\"Today Date : \",todayDate)\n",
    "print(todayDate)\n",
    "print(todayDate.year)\n",
    "print(todayDate.month)\n",
    "print(todayDate.day)\n",
    "\n",
    "t = dt.time(10,30,5,1456)\n",
    "print(t)\n",
    "print(t.hour)\n",
    "print(t.minute)\n",
    "print(t.second)\n",
    "print(t.microsecond)\n",
    "\n",
    "dd = dt.datetime(2003,7,5,12,12,12)\n",
    "print(dd)\n",
    "print(dt.datetime.now())\n",
    "\n",
    "n = dt.datetime.now()\n",
    "y = n+dt.timedelta(days=2)\n",
    "a = n+dt.timedelta(weeks=-2)\n",
    "print(y)\n",
    "print(a)\n",
    "print(n.strftime(\"%a\"))\n",
    "print(n.strftime(\"%A\"))\n",
    "print(n.strftime(\"%m\"))\n",
    "print(n.strftime(\"%M\"))\n",
    "print(n.strftime(\"%y\"))\n",
    "print(n.strftime(\"%Y\"))"
   ]
  },
  {
   "cell_type": "markdown",
   "metadata": {},
   "source": [
    "# B"
   ]
  },
  {
   "cell_type": "markdown",
   "metadata": {},
   "source": [
    "### 01) WAP to Roll dice in such a way that every time you get the same number."
   ]
  },
  {
   "cell_type": "code",
   "execution_count": 26,
   "metadata": {},
   "outputs": [
    {
     "name": "stdout",
     "output_type": "stream",
     "text": [
      "2\n"
     ]
    }
   ],
   "source": [
    "import random as rd\n",
    "\n",
    "rd.seed(3)\n",
    "print(rd.choice([1,2,3,4,5,6]))"
   ]
  },
  {
   "cell_type": "markdown",
   "metadata": {},
   "source": [
    "### 02) WAP to generate 3 random integers between 100 and 999 which is divisible by 5."
   ]
  },
  {
   "cell_type": "code",
   "execution_count": 32,
   "metadata": {},
   "outputs": [
    {
     "name": "stdout",
     "output_type": "stream",
     "text": [
      "115\n",
      "700\n",
      "430\n"
     ]
    }
   ],
   "source": [
    "import random as rd\n",
    "# count=0\n",
    "\n",
    "# while(count!=3):\n",
    "#     n1=rd.randrange(100,999)\n",
    "#     if(n1%5==0):\n",
    "#         print(n1)\n",
    "#         count=count+1\n",
    "        \n",
    "# M2       \n",
    "for i in range(3):\n",
    "    print(rd.randrange(100,1000,5))"
   ]
  },
  {
   "cell_type": "markdown",
   "metadata": {},
   "source": [
    "### 03) WAP to generate 100 random lottery tickets and pick two lucky tickets from it as a winner."
   ]
  },
  {
   "cell_type": "code",
   "execution_count": 37,
   "metadata": {},
   "outputs": [
    {
     "name": "stdout",
     "output_type": "stream",
     "text": [
      "Lottery_Tickets:\n",
      "[86888, 2602, 68809, 70386, 54232, 6980, 80238, 14889, 44742, 16438, 33093, 70908, 62548, 8044, 46117, 28942, 25865, 16020, 70076, 15626, 22453, 31387, 35883, 16841, 984, 63898, 82393, 74829, 52466, 6545, 99155, 35573, 32540, 35205, 81015, 69110, 68115, 55442, 6682, 61984, 42352, 238, 7188, 16629, 6054, 16336, 6532, 8968, 63284, 4327, 93418, 11289, 67556, 65814, 64225, 41406, 20584, 41233, 9408, 46045, 50568, 84793, 51071, 76889, 39862, 47296, 34725, 25046, 43094, 56191, 16221, 16727, 72814, 458, 93854, 94771, 49839, 10473, 74283, 23404, 5632, 48926, 60401, 79225, 85233, 70953, 49843, 83451, 5694, 81649, 56570, 6956, 48814, 82241, 65032, 99621, 92128, 41281, 55118, 90981]\n",
      "\n",
      "\n",
      "WINNERS: [65814, 9408]\n"
     ]
    }
   ],
   "source": [
    "import random as rd\n",
    "\n",
    "li = []\n",
    "print(\"Lottery_Tickets:\")\n",
    "for i in range(1,101):\n",
    "    x = rd.randrange(1,100000)\n",
    "    li.append(x)\n",
    "print(li)\n",
    "print(\"\\n\")\n",
    "print(\"WINNERS:\",rd.sample(li,2))"
   ]
  },
  {
   "cell_type": "markdown",
   "metadata": {},
   "source": [
    "### 04) WAP to print current date and time in Python."
   ]
  },
  {
   "cell_type": "code",
   "execution_count": 38,
   "metadata": {},
   "outputs": [
    {
     "name": "stdout",
     "output_type": "stream",
     "text": [
      "2023-02-17 10:53:17.257999\n"
     ]
    }
   ],
   "source": [
    "import datetime as dt\n",
    "print(dt.datetime.now())"
   ]
  },
  {
   "cell_type": "markdown",
   "metadata": {},
   "source": [
    "### 05) Subtract a week (7 days) from a given date in Python."
   ]
  },
  {
   "cell_type": "code",
   "execution_count": 40,
   "metadata": {},
   "outputs": [
    {
     "name": "stdout",
     "output_type": "stream",
     "text": [
      "2023-02-10 10:54:16.737394\n"
     ]
    }
   ],
   "source": [
    "# n = dt.datetime.now()\n",
    "# a = n+dt.timedelta(weeks=-1)\n",
    "# print(a)\n",
    "\n",
    "# M2\n",
    "n = dt.datetime.now()\n",
    "a = n+dt.timedelta(days=-7)\n",
    "print(a)"
   ]
  },
  {
   "cell_type": "markdown",
   "metadata": {},
   "source": [
    "### 06) WAP to Calculate number of days between two given dates."
   ]
  },
  {
   "cell_type": "code",
   "execution_count": 44,
   "metadata": {},
   "outputs": [
    {
     "name": "stdout",
     "output_type": "stream",
     "text": [
      "Enter 1st date day 1\n",
      "Enter 1st date month 5\n",
      "Enter 1st date year 2003\n",
      "Enter 2nd date day 30\n",
      "Enter 2nd date month 4\n",
      "Enter 2nd date year 02006\n",
      "Difference is 1095 days\n"
     ]
    }
   ],
   "source": [
    "import datetime as dt\n",
    "\n",
    "day1=int(input(\"Enter 1st date day \"))\n",
    "month1=int(input(\"Enter 1st date month \"))\n",
    "year1=int(input(\"Enter 1st date year \"))\n",
    "day2=int(input(\"Enter 2nd date day \"))\n",
    "month2=int(input(\"Enter 2nd date month \"))\n",
    "year2=int(input(\"Enter 2nd date year \"))\n",
    "\n",
    "d1 = dt.date(year1,month1,day1)\n",
    "d2 = dt.date(year2,month2,day2)\n",
    "\n",
    "diff=d2-d1\n",
    "print('Difference is {} days'.format(diff.days))"
   ]
  },
  {
   "cell_type": "markdown",
   "metadata": {},
   "source": [
    "### 07) WAP to Find the day of the week of a given date."
   ]
  },
  {
   "cell_type": "code",
   "execution_count": 46,
   "metadata": {},
   "outputs": [
    {
     "name": "stdout",
     "output_type": "stream",
     "text": [
      "Enter date day 1\n",
      "Enter date month 5\n",
      "Enter date year 2003\n",
      "Thursday\n"
     ]
    }
   ],
   "source": [
    "import datetime as dt \n",
    "\n",
    "day1=int(input(\"Enter date day \"))\n",
    "month1=int(input(\"Enter date month \"))\n",
    "year1=int(input(\"Enter date year \"))\n",
    "\n",
    "d1 = dt.date(year1,month1,day1)\n",
    "print(d1.strftime(\"%A\"))"
   ]
  }
 ],
 "metadata": {
  "kernelspec": {
   "display_name": "Python 3 (ipykernel)",
   "language": "python",
   "name": "python3"
  },
  "language_info": {
   "codemirror_mode": {
    "name": "ipython",
    "version": 3
   },
   "file_extension": ".py",
   "mimetype": "text/x-python",
   "name": "python",
   "nbconvert_exporter": "python",
   "pygments_lexer": "ipython3",
   "version": "3.9.12"
  }
 },
 "nbformat": 4,
 "nbformat_minor": 4
}
