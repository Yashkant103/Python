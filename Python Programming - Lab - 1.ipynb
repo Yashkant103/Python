{
 "cells": [
  {
   "cell_type": "markdown",
   "metadata": {},
   "source": [
    "###### Name: Yashkant Prasad, Batch: C2-326\n",
    "###### Enrollment no: 21010101148"
   ]
  },
  {
   "cell_type": "markdown",
   "metadata": {},
   "source": [
    "<a href='https://www.darshan.ac.in/'> <img src='https://www.darshan.ac.in/Content/media/DU_Logo.svg' width=\"250\" height=\"300\"/></a>\n",
    "<pre>\n",
    "<center><b><h1>Python Programming - 2101CS405</b></center>\n",
    "<center><b><h1>Lab - 1</b></center>    \n",
    "<pre>"
   ]
  },
  {
   "cell_type": "markdown",
   "metadata": {},
   "source": [
    "### 01) WAP to print “Hello World”"
   ]
  },
  {
   "cell_type": "code",
   "execution_count": 3,
   "metadata": {},
   "outputs": [
    {
     "name": "stdout",
     "output_type": "stream",
     "text": [
      "Hello world :)\n"
     ]
    }
   ],
   "source": [
    "print(\"Hello world :)\")"
   ]
  },
  {
   "cell_type": "markdown",
   "metadata": {},
   "source": [
    "### 02) WAP to print your address i) using single print ii) using multiple print"
   ]
  },
  {
   "cell_type": "code",
   "execution_count": 5,
   "metadata": {},
   "outputs": [
    {
     "name": "stdout",
     "output_type": "stream",
     "text": [
      "Yamunanagar-1,\n",
      "Navalakhi Road,\n",
      "Morbi - 363641\n"
     ]
    }
   ],
   "source": [
    "# print(\"Yamunanagar-1, \\nNavalakhi Road, \\nMorbi - 363641\")\n",
    "\n",
    "print(\"Yamunanagar-1,\")\n",
    "print(\"Navalakhi Road,\")\n",
    "print(\"Morbi - 363641\")"
   ]
  },
  {
   "cell_type": "markdown",
   "metadata": {},
   "source": [
    "### 03) WAP to print addition of 2 numbers (without input function)"
   ]
  },
  {
   "cell_type": "code",
   "execution_count": 7,
   "metadata": {},
   "outputs": [
    {
     "name": "stdout",
     "output_type": "stream",
     "text": [
      "Addition :  94\n"
     ]
    }
   ],
   "source": [
    "a = 50\n",
    "b = 44\n",
    "print(\"Addition : \", a+b)"
   ]
  },
  {
   "cell_type": "markdown",
   "metadata": {},
   "source": [
    "### 04) WAP to calculate and print average of 2 numbers (without input function)"
   ]
  },
  {
   "cell_type": "code",
   "execution_count": 6,
   "metadata": {},
   "outputs": [
    {
     "name": "stdout",
     "output_type": "stream",
     "text": [
      "Avarage :  40.0\n"
     ]
    }
   ],
   "source": [
    "a = 20\n",
    "b = 60\n",
    "print(\"Avarage : \", (a+b)/2)\n"
   ]
  },
  {
   "cell_type": "markdown",
   "metadata": {},
   "source": [
    "### 05) WAP to add two number entered by user."
   ]
  },
  {
   "cell_type": "code",
   "execution_count": 8,
   "metadata": {},
   "outputs": [
    {
     "name": "stdout",
     "output_type": "stream",
     "text": [
      "Enter first Number : 1\n",
      "Enter 2nd Number : 2\n",
      "ANSWER: 3\n"
     ]
    }
   ],
   "source": [
    "n1 = int( input(\"Enter first Number : \"))\n",
    "n2 = int (input(\"Enter 2nd Number : \"))\n",
    "print(\"ANSWER:\",(n1+n2))"
   ]
  },
  {
   "cell_type": "markdown",
   "metadata": {},
   "source": [
    "### 06) WAP to calculate simple interest."
   ]
  },
  {
   "cell_type": "code",
   "execution_count": 12,
   "metadata": {},
   "outputs": [
    {
     "name": "stdout",
     "output_type": "stream",
     "text": [
      "Enter Principal Amount : 123456\n",
      "Enter Rate Per Annum : 2\n",
      "Enter Time : 3\n",
      "Simple Intrest : Rs 7407.36\n"
     ]
    }
   ],
   "source": [
    "p = int(input(\"Enter Principal Amount : \"))\n",
    "r = int(input(\"Enter Rate Per Annum : \"))\n",
    "n = int(input(\"Enter Time : \"))\n",
    "\n",
    "print(\"Simple Intrest : Rs\", (p*r*n)/100)"
   ]
  },
  {
   "cell_type": "markdown",
   "metadata": {},
   "source": [
    "### 07) WAP Calculate Area and Circumfrence of Circle"
   ]
  },
  {
   "cell_type": "code",
   "execution_count": 13,
   "metadata": {},
   "outputs": [
    {
     "name": "stdout",
     "output_type": "stream",
     "text": [
      "Enter Radius of Circle:7\n",
      "Circumference:43.96\tArea:153.86\n"
     ]
    }
   ],
   "source": [
    "r = int(input(\"Enter Radius of Circle:\"))\n",
    "ar = 3.14*r*r\n",
    "cm = 2*3.14*r\n",
    "print(\"Circumference:\"+ str(cm)+\"\\tArea:\"+ str(ar))"
   ]
  },
  {
   "cell_type": "markdown",
   "metadata": {},
   "source": [
    "### 08) WAP to print Multiplication table of given number without using loops."
   ]
  },
  {
   "cell_type": "code",
   "execution_count": 16,
   "metadata": {},
   "outputs": [
    {
     "name": "stdout",
     "output_type": "stream",
     "text": [
      "Enter A Number : 4\n",
      "4 x 1 = 4\n",
      "4 x 2 = 8\n",
      "4 x 3 = 12\n",
      "4 x 4 = 16\n",
      "4 x 5 = 20\n",
      "4 x 6 = 24\n",
      "4 x 7 = 28\n",
      "4 x 8 = 32\n",
      "4 x 9 = 36\n",
      "4 x 10 = 40\n"
     ]
    }
   ],
   "source": [
    "n = int(input(\"Enter A Number : \"))\n",
    "print(n, \"x\", 1, \"=\", n * 1)\n",
    "print(n, \"x\", 2, \"=\", n * 2)\n",
    "print(n, \"x\", 3, \"=\", n * 3)\n",
    "print(n, \"x\", 4, \"=\", n * 4)\n",
    "print(n, \"x\", 5, \"=\", n * 5)\n",
    "print(n, \"x\", 6, \"=\", n * 6)\n",
    "print(n, \"x\", 7, \"=\", n * 7)\n",
    "print(n, \"x\", 8, \"=\", n * 8)\n",
    "print(n, \"x\", 9, \"=\", n * 9)\n",
    "print(n, \"x\", 10, \"=\", n * 10)"
   ]
  },
  {
   "cell_type": "markdown",
   "metadata": {},
   "source": [
    "### 09) WAP to calculate Area of Triangle (hint: a = h * b * 0.5)"
   ]
  },
  {
   "cell_type": "code",
   "execution_count": 17,
   "metadata": {},
   "outputs": [
    {
     "name": "stdout",
     "output_type": "stream",
     "text": [
      "Enter Height : 6\n",
      "Enter Breadth : 12\n",
      "Area Of Tringle Is :  36.0\n"
     ]
    }
   ],
   "source": [
    "h = int(input(\"Enter Height : \"))\n",
    "b = int(input(\"Enter Breadth : \"))\n",
    "print(\"Area Of Tringle Is : \", (h*b*0.5))"
   ]
  },
  {
   "cell_type": "markdown",
   "metadata": {},
   "source": [
    "### 10) WAP to convert degree to Fahrenheit and vice versa."
   ]
  },
  {
   "cell_type": "code",
   "execution_count": 24,
   "metadata": {},
   "outputs": [
    {
     "name": "stdout",
     "output_type": "stream",
     "text": [
      "Enter Teperature Unit(f/c)c\n",
      "Enter temperatue(celcius):89\n",
      "Temp. in Celcius is  192.20000000000002\n"
     ]
    }
   ],
   "source": [
    "t = input(\"Enter Teperature Unit(f/c)\")\n",
    "if (t == \"f\"):\n",
    "    f = float(input(\"Enter temperatue(farenheigth):\"))\n",
    "    print(\"Temp. in Celcius is \",((c-32)/1.8))\n",
    "else :\n",
    "    c = float(input(\"Enter temperatue(celcius):\"))\n",
    "    print(\"Temp. in Celcius is \",(1.8*c+32))"
   ]
  },
  {
   "cell_type": "markdown",
   "metadata": {},
   "source": [
    "### 11) WAP to calculate total marks and Percentage."
   ]
  },
  {
   "cell_type": "code",
   "execution_count": 35,
   "metadata": {},
   "outputs": [
    {
     "name": "stdout",
     "output_type": "stream",
     "text": [
      "Enter Marks:: \n",
      "1. Maths: 89\n",
      "2. English: 89\n",
      "3. Hindi: 89\n",
      "4. Science: 90\n",
      "5. Social_Science: 90\n",
      "Total Marks Obtained is 447\tPercentage : 89.4%\n"
     ]
    }
   ],
   "source": [
    "# print(\"Enter Marks:\")\n",
    "m = int(input(\"Enter Marks:: \\n1. Maths: \"))\n",
    "e = int(input(\"2. English: \"))\n",
    "h = int(input(\"3. Hindi: \"))\n",
    "s = int(input(\"4. Science: \"))\n",
    "ss = int(input(\"5. Social_Science: \"))\n",
    "obm = m+e+h+s+ss\n",
    "if(obm > 500):\n",
    "    print(\"Invalid Input Of Marks :(\")\n",
    "else:\n",
    "    print(\"Total Marks Obtained is \"+ str(obm)+ \"\\tPercentage : \"+str(obm/5)+ \"%\")"
   ]
  },
  {
   "cell_type": "markdown",
   "metadata": {},
   "source": [
    "### 12) Compute distance between two points taking input from the user (Pythagorean Theorem)."
   ]
  },
  {
   "cell_type": "code",
   "execution_count": 37,
   "metadata": {},
   "outputs": [
    {
     "name": "stdout",
     "output_type": "stream",
     "text": [
      "Enter X1 Coordinate : 12\n",
      "Enter X2 Coordinate : 78\n",
      "Enter y1 Coordinate : 34\n",
      "Enter y2 Coordinate : 5\n",
      "Distance Between 12,78 And 34,5 Is 4356.0\n"
     ]
    }
   ],
   "source": [
    "x1 = int(input(\"Enter X1 Coordinate : \"))\n",
    "x2 = int(input(\"Enter X2 Coordinate : \"))\n",
    "y1 = int(input(\"Enter y1 Coordinate : \"))\n",
    "y2 = int(input(\"Enter y2 Coordinate : \"))\n",
    "\n",
    "distance = (((x1-x2)**2)+((y1-y1)**2)**0.5)\n",
    "print(f\"Distance Between {x1},{x2} And {y1},{y2} Is\",distance)"
   ]
  },
  {
   "cell_type": "markdown",
   "metadata": {},
   "source": [
    "### 13) WAP to convert seconds into hours, minutes & seconds and print in HH:MM:SS\n",
    "[e.g. 10000 seconds mean 2:46:40 (2 Hours, 46 Minutes, 40Seconds)]"
   ]
  },
  {
   "cell_type": "code",
   "execution_count": 40,
   "metadata": {},
   "outputs": [
    {
     "name": "stdout",
     "output_type": "stream",
     "text": [
      "Enter Seconds:10000\n",
      "Time is \t2hrs\t46min\t46sec\t\n"
     ]
    }
   ],
   "source": [
    "sec = int(input(\"Enter Seconds:\"))\n",
    "hr = sec//3600\n",
    "m = (sec%3600)//60\n",
    "sec = m%60\n",
    "\n",
    "print(\"Time is \\t\" +str(hr)+\"hrs\\t\" +str(m)+\"min\\t\" +str(sec)+\"sec\\t\")"
   ]
  },
  {
   "cell_type": "markdown",
   "metadata": {},
   "source": [
    "### 14) WAP to enter distance into kilometer and convert it into meter, feet,inches, and centimeter"
   ]
  },
  {
   "cell_type": "code",
   "execution_count": 49,
   "metadata": {},
   "outputs": [
    {
     "name": "stdout",
     "output_type": "stream",
     "text": [
      "Enter Kilometres:10\n",
      "10 Kilometer is 10000 meter, 32810 feet, 393700 inches, 1000000 centimeters\n"
     ]
    }
   ],
   "source": [
    "km = int(input(\"Enter Kilometres:\"))\n",
    "m = km*1000\n",
    "ft = km*3281\n",
    "inc = km*39370\n",
    "cm = km*100000\n",
    "\n",
    "print(f\"{km} Kilometer is {m} meter, {ft} feet, {inc} inches, {cm} centimeters\")"
   ]
  }
 ],
 "metadata": {
  "kernelspec": {
   "display_name": "Python 3 (ipykernel)",
   "language": "python",
   "name": "python3"
  },
  "language_info": {
   "codemirror_mode": {
    "name": "ipython",
    "version": 3
   },
   "file_extension": ".py",
   "mimetype": "text/x-python",
   "name": "python",
   "nbconvert_exporter": "python",
   "pygments_lexer": "ipython3",
   "version": "3.9.13"
  }
 },
 "nbformat": 4,
 "nbformat_minor": 4
}
