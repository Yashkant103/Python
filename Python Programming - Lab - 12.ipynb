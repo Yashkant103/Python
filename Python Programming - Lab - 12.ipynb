{
 "cells": [
  {
   "cell_type": "markdown",
   "metadata": {},
   "source": [
    "<a href='https://www.darshan.ac.in/'> <img src='https://www.darshan.ac.in/Content/media/DU_Logo.svg' width=\"250\" height=\"300\"/></a>\n",
    "<pre>\n",
    "<center><b><h1>Python Programming - 2101CS405</b></center>\n",
    "<center><b><h1>Lab - 12</b></center>    \n",
    "<pre>"
   ]
  },
  {
   "cell_type": "markdown",
   "metadata": {},
   "source": [
    "# OOP"
   ]
  },
  {
   "cell_type": "markdown",
   "metadata": {},
   "source": [
    "### 01) Write a Program to create a class by name Students, and initialize attributes like name, age, and grade while creating an object."
   ]
  },
  {
   "cell_type": "code",
   "execution_count": 16,
   "metadata": {},
   "outputs": [
    {
     "name": "stdout",
     "output_type": "stream",
     "text": [
      "Student_Datails::\n",
      "Name:  Rohan\n",
      "Age:  19\n",
      "Grade:  A\n"
     ]
    }
   ],
   "source": [
    "class Students:\n",
    "    name=\"\"\n",
    "    age=\"\"\n",
    "    grade=\"\"\n",
    "\n",
    "    def __init__(self, name, age, grade):\n",
    "        self.name = name\n",
    "        self.age = age\n",
    "        self.grade = grade\n",
    "    \n",
    "    def StudentDatails(self):\n",
    "        print(\"Student_Datails::\")\n",
    "        print(\"Name: \", self.name)\n",
    "        print(\"Age: \", self.age)\n",
    "        print(\"Grade: \", self.grade)\n",
    "    \n",
    "obj = Students(\"Rohan\", 19, \"A\")\n",
    "obj.StudentDatails()"
   ]
  },
  {
   "cell_type": "code",
   "execution_count": 7,
   "metadata": {},
   "outputs": [
    {
     "name": "stdout",
     "output_type": "stream",
     "text": [
      "Student_Datails::\n",
      "\n",
      "\tName:  Yash\n",
      "\tAge:  20\n",
      "\tGrade:  A+\n"
     ]
    }
   ],
   "source": [
    "class Students:\n",
    "    name = \"Yash\"\n",
    "    age = \"20\"\n",
    "    grade = \"A+\"\n",
    "    \n",
    "    def StudentDatails(self):\n",
    "        print(\"Student_Datails::\\n\")\n",
    "        print(\"\\tName: \", self.name)\n",
    "        print(\"\\tAge: \", self.age)\n",
    "        print(\"\\tGrade: \", self.grade)\n",
    "    \n",
    "obj = Students()\n",
    "obj.StudentDatails()"
   ]
  },
  {
   "cell_type": "markdown",
   "metadata": {},
   "source": [
    "### 02) Create a class named Bank_Account with Account_No, User_Name, Email,Account_Type and Account_Balance data members. Also create a method GetAccountDetails() and DisplayAccountDetails(). Create main method to demonstrate the Bank_Account class."
   ]
  },
  {
   "cell_type": "code",
   "execution_count": 29,
   "metadata": {},
   "outputs": [
    {
     "name": "stdout",
     "output_type": "stream",
     "text": [
      "Enter Accout Number: 101\n",
      "Account_Datails::\n",
      "\n",
      "\tAccount_No:  101\n",
      "\tUser_Name:  Yash\n",
      "\tEmail:  yk03@gamil.com\n",
      "\tAccount_Type:  Saving\n",
      "\tAccount_Balance 10,000\n"
     ]
    }
   ],
   "source": [
    "class Bank_Account:\n",
    "    Account_No = \"\"\n",
    "    User_Name = \"\"\n",
    "    Email = \"\"\n",
    "    Account_Type = \"\" \n",
    "    Account_Balance = \"\"\n",
    "    \n",
    "    def GetAccountDetails(self, Account_No, User_Name, Email, Account_Type, Account_Balance) :\n",
    "        self.Account_No = Account_No\n",
    "        self.User_Name = User_Name\n",
    "        self.Email = Email\n",
    "        self.Account_Type = Account_Type\n",
    "        self.Account_Balance = Account_Balance\n",
    "        \n",
    "    def DisplayAccountDetails(self):\n",
    "        print(\"Account_Datails::\\n\")\n",
    "        print(\"\\tAccount_No: \", self.Account_No)\n",
    "        print(\"\\tUser_Name: \", self.User_Name)\n",
    "        print(\"\\tEmail: \", self.Email)\n",
    "        print(\"\\tAccount_Type: \", self.Account_Type)\n",
    "        print(\"\\tAccount_Balance\", self.Account_Balance)\n",
    "        \n",
    "    def Main(self, Account_No, User_Name, Email, Account_Type, Account_Balance):\n",
    "        self.GetAccountDetails(Account_No, User_Name, Email, Account_Type, Account_Balance)\n",
    "        self.DisplayAccountDetails()\n",
    "\n",
    "obj = Bank_Account()\n",
    "obj.Main(101, \"Yash\", \"yk03@gamil.com\", \"Saving\", \"10,000\")"
   ]
  },
  {
   "cell_type": "code",
   "execution_count": null,
   "metadata": {},
   "outputs": [],
   "source": [
    "#to take Input type in GetAccountDetails:\n",
    "# self.Account_No = int(input(\"Enter Accout Number: \"))              "
   ]
  },
  {
   "cell_type": "markdown",
   "metadata": {},
   "source": [
    "### 03) WAP to create Circle class with area and perimeter function to find area and perimeter of circle."
   ]
  },
  {
   "cell_type": "code",
   "execution_count": 36,
   "metadata": {},
   "outputs": [
    {
     "name": "stdout",
     "output_type": "stream",
     "text": [
      "Area :  153.93804002589985\n",
      "Perimeter :  43.982297150257104\n"
     ]
    }
   ],
   "source": [
    "import math\n",
    "class Circle:\n",
    "    radius = \"\"\n",
    "    \n",
    "    def __init__(self, radius):\n",
    "        self.radius = radius\n",
    "    \n",
    "    def Area(self):\n",
    "        print(\"Area : \", math.pi*self.radius*self.radius)\n",
    "    \n",
    "    def Perimeter(self):\n",
    "        print(\"Perimeter : \", 2*math.pi*self.radius)\n",
    "        \n",
    "cir = Circle(7)\n",
    "cir.Area()\n",
    "cir.Perimeter()"
   ]
  },
  {
   "cell_type": "markdown",
   "metadata": {},
   "source": [
    "### 04) Create a class for employees that includes attributes such as name, age, salary, and methods to update and display employee information."
   ]
  },
  {
   "cell_type": "code",
   "execution_count": 43,
   "metadata": {},
   "outputs": [
    {
     "name": "stdout",
     "output_type": "stream",
     "text": [
      "Employee_Datails::\n",
      "\tName:  Amit\n",
      "\tAge:  25\n",
      "\tSalary:  1000000\n",
      "\n",
      "=======================Updated Data==========================\n",
      "\n",
      "Employee_Datails::\n",
      "\tName:  Yash\n",
      "\tAge:  20\n",
      "\tSalary:  200000\n"
     ]
    }
   ],
   "source": [
    "class Employees:\n",
    "    name = \"\"\n",
    "    age = \"\"\n",
    "    salary = \"\"\n",
    "    \n",
    "    def __init__(self, name, age, salary):\n",
    "        self.name = name\n",
    "        self.age = age\n",
    "        self.salary = salary\n",
    "    \n",
    "    def updateDetails(self, name, age, salary) :\n",
    "        self.name = name\n",
    "        self.age = age\n",
    "        self.salary = salary\n",
    "        print(\"\\n=======================Updated Data==========================\\n\")\n",
    "        \n",
    "    def DisplayAccountDetails(self):\n",
    "        print(\"Employee_Datails::\")\n",
    "        print(\"\\tName: \", self.name)\n",
    "        print(\"\\tAge: \", self.age)\n",
    "        print(\"\\tSalary: \", self.salary)\n",
    "\n",
    "\n",
    "emp = Employees(\"Amit\", 25, 1000000)\n",
    "emp.DisplayAccountDetails()\n",
    "emp.updateDetails(\"Yash\", 20, 200000)\n",
    "emp.DisplayAccountDetails()"
   ]
  },
  {
   "cell_type": "markdown",
   "metadata": {},
   "source": [
    "### 05) Create a bank account class with methods to deposit, withdraw, and check balance."
   ]
  },
  {
   "cell_type": "code",
   "execution_count": 62,
   "metadata": {},
   "outputs": [
    {
     "name": "stdout",
     "output_type": "stream",
     "text": [
      "\n",
      "=======================DEPOSIT_&_WITHDRAW==========================\n",
      "\n",
      "Amount for Deposit: 12000\n",
      "Amount Deposited:  12000.0\n",
      "Amount for Withdraw: 150000\n",
      "Low Balance :(\n",
      "Balance:  12000.0\n"
     ]
    }
   ],
   "source": [
    "class Bank_Account:\n",
    "    def __init__(self):\n",
    "        self.balance=0\n",
    "        print(\"\\n=======================DEPOSIT_&_WITHDRAW==========================\\n\")\n",
    "\n",
    "        \n",
    "    def deposit(self):\n",
    "        amount=float(input(\"Amount for Deposit: \"))\n",
    "        self.balance += amount\n",
    "        print(\"Amount Deposited: \",amount)\n",
    "    def withdraw(self):\n",
    "        amount = float(input(\"Amount for Withdraw: \"))\n",
    "        if self.balance>=amount:\n",
    "            self.balance-=amount\n",
    "            print(\"Amount Withdrawed: \",amount)\n",
    "        else:\n",
    "            print(\"Low Balance :(\")\n",
    "            \n",
    "    def display(self):\n",
    "        print(\"Balance: \",self.balance)\n",
    "\n",
    "s = Bank_Account()\n",
    "\n",
    "s.deposit()\n",
    "s.withdraw()\n",
    "s.display()"
   ]
  },
  {
   "cell_type": "markdown",
   "metadata": {},
   "source": [
    "### 06) Create a class for managing inventory that includes attributes such as item name, price, quantity, and methods to add, remove, and update items."
   ]
  },
  {
   "cell_type": "code",
   "execution_count": 60,
   "metadata": {},
   "outputs": [
    {
     "name": "stdout",
     "output_type": "stream",
     "text": [
      "Item Details:\n",
      "Product Name: Laptop, Quantity: 100, Price: 500.0\n",
      "Product Name: Mobile, Quantity: 110, Price: 450.0\n",
      "Product Name: Desktop, Quantity: 120, Price: 500.0\n",
      "Product Name: Tablet, Quantity: 90, Price: 550.0\n",
      "\n",
      "Update the price of item code - 'I001':\n",
      "Product Name: Laptop, Quantity: 100, Price: 505.0\n",
      "\n",
      "Update the stock of item code - 'I003':\n",
      "Product Name: Desktop, Quantity: 115, Price: 500.0\n",
      "\n",
      "Removing Item code - 'I003'\n",
      "Item removed from inventory.\n",
      "Item not found in inventory.\n",
      "\n",
      "To check Item(I002) removed or not\n",
      "Item not found in inventory.\n"
     ]
    }
   ],
   "source": [
    "class Inventory:\n",
    "    def __init__(self):\n",
    "        self.inventory = {}\n",
    "    def add_item(self, item_id, item_name, quantity, price):\n",
    "        self.inventory[item_id] = {\"item_name\": item_name, \"quantity\": quantity, \"price\": price}\n",
    "\n",
    "    def update_item(self, item_id, quantity, price):\n",
    "        if item_id in self.inventory:\n",
    "            self.inventory[item_id][\"quantity\"] = quantity\n",
    "            self.inventory[item_id][\"price\"] = price\n",
    "        else:\n",
    "            print(\"Item not found in inventory.\")\n",
    "    \n",
    "    def remove_item(self, item_id):\n",
    "        if item_id in self.inventory:\n",
    "            del self.inventory[item_id]\n",
    "            print(\"Item removed from inventory.\")\n",
    "        else:\n",
    "            print(\"Item not found in inventory.\")\n",
    "        \n",
    "    \n",
    "    def check_item_details(self, item_id):\n",
    "        if item_id in self.inventory:\n",
    "            item = self.inventory[item_id]\n",
    "            return f\"Product Name: {item['item_name']}, Quantity: {item['quantity']}, Price: {item['price']}\"\n",
    "        else:\n",
    "            return \"Item not found in inventory.\"\n",
    "\n",
    "inventory = Inventory()\n",
    "\n",
    "inventory.add_item(\"I001\", \"Laptop\", 100, 500.00)\n",
    "inventory.add_item(\"I002\", \"Mobile\", 110, 450.00)\n",
    "inventory.add_item(\"I003\", \"Desktop\", 120, 500.00)\n",
    "inventory.add_item(\"I004\", \"Tablet\", 90, 550.00)\n",
    "\n",
    "print(\"Item Details:\")\n",
    "print(inventory.check_item_details(\"I001\"))\n",
    "print(inventory.check_item_details(\"I002\"))\n",
    "print(inventory.check_item_details(\"I003\"))\n",
    "print(inventory.check_item_details(\"I004\"))\n",
    "\n",
    "print(\"\\nUpdate the price of item code - 'I001':\")\n",
    "inventory.update_item(\"I001\", 100, 505.00)\n",
    "print(inventory.check_item_details(\"I001\"))\n",
    "print(\"\\nUpdate the stock of item code - 'I003':\")\n",
    "inventory.update_item(\"I003\", 115, 500.00)\n",
    "print(inventory.check_item_details(\"I003\"))\n",
    "\n",
    "print(\"\\nRemoving Item code - 'I003'\")\n",
    "inventory.remove_item(\"I002\")\n",
    "print(inventory.check_item_details(\"I002\"))\n",
    "\n",
    "print(\"\\nTo check Item(I002) removed or not\")\n",
    "inventory.remove_item(\"I002\")"
   ]
  },
  {
   "cell_type": "markdown",
   "metadata": {},
   "source": [
    "### 09) Create a Class with instance attributes"
   ]
  },
  {
   "cell_type": "code",
   "execution_count": null,
   "metadata": {},
   "outputs": [],
   "source": []
  },
  {
   "cell_type": "markdown",
   "metadata": {},
   "source": [
    "### 07)\n",
    "Create one class student_kit <br>\n",
    "Within the student_kit class create one class attribute principal name ( Mr ABC ) <br>\n",
    "Create one attendance method and take input as number of days. <br>\n",
    "While creating student take input their name . <br>\n",
    "Create one certificate for each student by taking input of number of days present in class. <br>"
   ]
  },
  {
   "cell_type": "code",
   "execution_count": null,
   "metadata": {},
   "outputs": [],
   "source": []
  },
  {
   "cell_type": "markdown",
   "metadata": {},
   "source": [
    "### 08) Define Time class with hour and minute as data member. Also define addition method to add two time objects."
   ]
  },
  {
   "cell_type": "code",
   "execution_count": null,
   "metadata": {},
   "outputs": [],
   "source": []
  },
  {
   "cell_type": "markdown",
   "metadata": {},
   "source": [
    "### 09) WAP to demonstrate inheritance in python."
   ]
  },
  {
   "cell_type": "code",
   "execution_count": null,
   "metadata": {},
   "outputs": [],
   "source": []
  },
  {
   "cell_type": "markdown",
   "metadata": {},
   "source": [
    "### 10) Create a child class Bus that will inherit all of the variables and methods of the Vehicle class\n",
    "class Vehicle:\n",
    "\n",
    "    def __init__(self, name, max_speed, mileage):\n",
    "        self.name = name\n",
    "        self.max_speed = max_speed\n",
    "        self.mileage = mileage\n",
    "        \n",
    "Create a Bus object that will inherit all of the variables and methods of the parent Vehicle class and display it.        "
   ]
  },
  {
   "cell_type": "code",
   "execution_count": null,
   "metadata": {},
   "outputs": [],
   "source": []
  },
  {
   "cell_type": "markdown",
   "metadata": {},
   "source": [
    "### 11)  Create a class hierarchy for different types of animals, with a parent Animal class and child classes for specific animals like Cat, Dog, and Bird."
   ]
  },
  {
   "cell_type": "code",
   "execution_count": null,
   "metadata": {},
   "outputs": [],
   "source": []
  },
  {
   "cell_type": "markdown",
   "metadata": {},
   "source": [
    "### 12) Create a class hierarchy for different types of vehicles, with a parent Vehicle class and child classes for specific vehicles like Car, Truck, and Motorcycle."
   ]
  },
  {
   "cell_type": "code",
   "execution_count": null,
   "metadata": {},
   "outputs": [],
   "source": []
  },
  {
   "cell_type": "markdown",
   "metadata": {},
   "source": [
    "### 13)  Create a class hierarchy for different types of bank accounts, with a parent Account class and child classes for specific account types like Checking, Savings, and Credit."
   ]
  },
  {
   "cell_type": "code",
   "execution_count": null,
   "metadata": {},
   "outputs": [],
   "source": []
  },
  {
   "cell_type": "markdown",
   "metadata": {},
   "source": [
    "### 14) Create a Shape class with a draw method that is not implemented. Create three child classes Rectangle, Circle, and Triangle that implement the draw method with their respective drawing behaviors. Create a list of Shape objects that includes one instance of each child class, and then iterate through the list and call the draw method on each object."
   ]
  },
  {
   "cell_type": "code",
   "execution_count": null,
   "metadata": {},
   "outputs": [],
   "source": []
  },
  {
   "cell_type": "markdown",
   "metadata": {},
   "source": [
    "### 15) Create a Person class with a constructor that takes two arguments name and age. Create a child class Employee that inherits from Person and adds a new attribute salary. Override the __init__ method in Employee to call the parent class's __init__ method using the super keyword, and then initialize the salary attribute."
   ]
  },
  {
   "cell_type": "code",
   "execution_count": null,
   "metadata": {},
   "outputs": [],
   "source": []
  }
 ],
 "metadata": {
  "kernelspec": {
   "display_name": "Python 3 (ipykernel)",
   "language": "python",
   "name": "python3"
  },
  "language_info": {
   "codemirror_mode": {
    "name": "ipython",
    "version": 3
   },
   "file_extension": ".py",
   "mimetype": "text/x-python",
   "name": "python",
   "nbconvert_exporter": "python",
   "pygments_lexer": "ipython3",
   "version": "3.9.12"
  }
 },
 "nbformat": 4,
 "nbformat_minor": 4
}
