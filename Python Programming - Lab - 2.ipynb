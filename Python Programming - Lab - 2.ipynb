{
 "cells": [
  {
   "cell_type": "markdown",
   "metadata": {},
   "source": [
    "\n",
    "<a href='https://www.darshan.ac.in/'> <img src='https://www.darshan.ac.in/Content/media/DU_Logo.svg' width=\"250\" height=\"300\"/></a>\n",
    "<pre>\n",
    "<center><b><h1>Python Programming - 2101CS405</b></center>\n",
    "<center><b><h1>Lab - 2</b></center>    \n",
    "<pre>"
   ]
  },
  {
   "cell_type": "markdown",
   "metadata": {},
   "source": [
    "# if..else.."
   ]
  },
  {
   "cell_type": "markdown",
   "metadata": {},
   "source": [
    "### 01) WAP to check whether the given number is positive or negative."
   ]
  },
  {
   "cell_type": "code",
   "execution_count": 3,
   "metadata": {},
   "outputs": [
    {
     "name": "stdout",
     "output_type": "stream",
     "text": [
      "Enter Any Number: 12\n",
      "12 is positive number!\n"
     ]
    }
   ],
   "source": [
    "n = int(input(\"Enter Any Number: \"))\n",
    "if n>0 :\n",
    "    print(str(n)+\" is positive number!\")\n",
    "else:\n",
    "    print(str(n)+\" is negative number!\")"
   ]
  },
  {
   "cell_type": "markdown",
   "metadata": {},
   "source": [
    "### 02) WAP to check whether the given number is odd or even"
   ]
  },
  {
   "cell_type": "code",
   "execution_count": 6,
   "metadata": {},
   "outputs": [
    {
     "name": "stdout",
     "output_type": "stream",
     "text": [
      "Enter Any Number: 0\n",
      "0 is Even number!\n"
     ]
    }
   ],
   "source": [
    "n = int(input(\"Enter Any Number: \"))\n",
    "if (n%2==0) :\n",
    "    print(str(n)+\" is Even number!\")\n",
    "else:\n",
    "    print(str(n)+\" is Odd number!\")"
   ]
  },
  {
   "cell_type": "markdown",
   "metadata": {},
   "source": [
    "### 03) WAP to find out largest number from given two numbers using simple if and ternary operator."
   ]
  },
  {
   "cell_type": "code",
   "execution_count": 11,
   "metadata": {},
   "outputs": [
    {
     "name": "stdout",
     "output_type": "stream",
     "text": [
      "Enter Any Number: 12\n",
      "Enter Any Number: 12\n",
      "Both are equal!\n"
     ]
    }
   ],
   "source": [
    "a = int(input(\"Enter Any Number: \"))\n",
    "b = int(input(\"Enter Any Number: \"))\n",
    "\n",
    "# if a>b :\n",
    "#     print(a,\" is greater!\")\n",
    "# elif a==b:\n",
    "#     print(\"Both are equal!\")\n",
    "# else:\n",
    "#     print(b,\" is greater!\")\n",
    "\n",
    "#ternary--\n",
    "print(a,\"is greater\") if (a>b) else print(b,\"is Greater\")"
   ]
  },
  {
   "cell_type": "markdown",
   "metadata": {},
   "source": [
    "### 04) WAP to find out largest number from given three numbers."
   ]
  },
  {
   "cell_type": "code",
   "execution_count": 13,
   "metadata": {},
   "outputs": [
    {
     "name": "stdout",
     "output_type": "stream",
     "text": [
      "Enter Any Number: 1\n",
      "Enter Any Number: 1\n",
      "Enter Any Number: 1\n",
      "All are equal!\n"
     ]
    }
   ],
   "source": [
    "a = int(input(\"Enter Any Number: \"))\n",
    "b = int(input(\"Enter Any Number: \"))\n",
    "c = int(input(\"Enter Any Number: \"))\n",
    "\n",
    "if a>b :\n",
    "    if(a>c):\n",
    "        print(a,\" is greater!\")\n",
    "    else:\n",
    "        print(c,\" is greater!\")\n",
    "elif a == b == c:\n",
    "    print(\"All are equal!\")\n",
    "else:\n",
    "    if(b>c):\n",
    "        print(b,\" is greater!\")\n",
    "    else:\n",
    "        print(c,\" is greater!\")"
   ]
  },
  {
   "cell_type": "markdown",
   "metadata": {},
   "source": [
    "### 05) WAP to check whether the given year is leap year or not.\n",
    "[If a year can be divisible by 4 but not divisible by 100 then it is leap year but if it is divisible by 400 then it is leap year]"
   ]
  },
  {
   "cell_type": "code",
   "execution_count": 15,
   "metadata": {},
   "outputs": [
    {
     "name": "stdout",
     "output_type": "stream",
     "text": [
      "Enter Year: 2014\n",
      "2014  is not Leap Year!\n"
     ]
    }
   ],
   "source": [
    "t = int(input(\"Enter Year: \"))\n",
    "if(t % 4 == 0 and t % 100 !=0)or t % 400 == 0:\n",
    "    print(t, \" is Leap Year!\")\n",
    "else:\n",
    "    print(t, \" is not Leap Year!\")    "
   ]
  },
  {
   "cell_type": "markdown",
   "metadata": {},
   "source": [
    "### 06) WAP in python to display the name of the day according to the number given by the user"
   ]
  },
  {
   "cell_type": "code",
   "execution_count": 17,
   "metadata": {},
   "outputs": [
    {
     "name": "stdout",
     "output_type": "stream",
     "text": [
      "Enter number(1 to 7): 12\n",
      "Invalid Input of Number(Please Enter no. between (1 to 7)!) :(\n"
     ]
    }
   ],
   "source": [
    "d = int(input(\"Enter number(1 to 7): \"))\n",
    "if(d == 1):\n",
    "    print(\"Monday\")\n",
    "elif(d == 2):\n",
    "    print(\"Tuesday\")\n",
    "elif(d == 3):\n",
    "    print(\"Wednesday\")\n",
    "elif(d == 4):\n",
    "    print(\"Thursday\")\n",
    "elif(d == 5):\n",
    "    print(\"Friday\")\n",
    "elif(d == 6):\n",
    "    print(\"Saturday\")\n",
    "elif(d == 7):\n",
    "    print(\"Sunday\")\n",
    "else:\n",
    "    print(\"Invalid Input of Number(Please Enter no. between (1 to 7)!) :(\")"
   ]
  },
  {
   "cell_type": "markdown",
   "metadata": {},
   "source": [
    "### 07) WAP to implement simple calculator which performs (add,sub,mul,div) of two no. based on user input."
   ]
  },
  {
   "cell_type": "code",
   "execution_count": 23,
   "metadata": {},
   "outputs": [
    {
     "name": "stdout",
     "output_type": "stream",
     "text": [
      "Enter Any Number: 2\n",
      "Enter Any Number: 2\n",
      "Choose Operator\n",
      "\t1.Sum\t2.Diffference\t3.Product\t4.Division\n",
      "Enter Any Number: 4\n",
      "Division is  1.0\n"
     ]
    }
   ],
   "source": [
    "a = int(input(\"Enter Any Number: \"))\n",
    "b = int(input(\"Enter Any Number: \"))\n",
    "print(\"Choose Operator\\n\\t1.Sum\\t2.Diffference\\t3.Product\\t4.Division\")\n",
    "c = int(input(\"Enter Any Number: \"))\n",
    "if(c == 1):\n",
    "    print(\"Sum is \",(a+b))\n",
    "elif(c == 2):\n",
    "        print(\"Difference is \",(a-b))\n",
    "elif(c == 3):\n",
    "        print(\"Product is \",(a*b))\n",
    "elif(c == 4):\n",
    "        print(\"Division is \",(a/b))\n",
    "else:\n",
    "    print(\"Invalid Choice :(\")    "
   ]
  },
  {
   "cell_type": "markdown",
   "metadata": {},
   "source": [
    "### 08) WAP to calculate electricity bill based on following criteria. Which takes the unit from the user.\n",
    "a. First 1 to 50 units – Rs. 2.60/unit</br>\n",
    "b. Next 50 to 100 units – Rs. 3.25/unit</br>\n",
    "c. Next 100 to 200 units – Rs. 5.26/unit</br>\n",
    "d. above 200 units – Rs. 8.45/unit"
   ]
  },
  {
   "cell_type": "code",
   "execution_count": 1,
   "metadata": {},
   "outputs": [
    {
     "name": "stdout",
     "output_type": "stream",
     "text": [
      "Electricity Bill\n",
      "Enter Units540\n",
      "Your Rs is  3428.4999999999995\n"
     ]
    }
   ],
   "source": [
    "print(\"Electricity Bill\")\n",
    "units = float(input(\"Enter Units\"))\n",
    "if units<=50:\n",
    "    print(\"Your Rs is \",unit*2.60)\n",
    "elif units<=100:\n",
    "    print(\"Your Rs is \",(50*2.60)+(units-50)*3.25)\n",
    "elif units>100 and units<=200:\n",
    "    print(\"Your Rs is \",(50*2.60)+(50*3.25)+(units-200)*5.26)\n",
    "elif units>200:\n",
    "    print(\"Your Rs is \",(50*2.60)+(50*3.25)+(50*5.26)+(units-200)*8.45)\n",
    "    "
   ]
  },
  {
   "cell_type": "markdown",
   "metadata": {},
   "source": [
    "### 01) WAP to read marks of five subjects. Calculate percentage and print class accordingly. \n",
    "Fail below 35 </br>\n",
    "Pass Class between 35 to 45 </br>\n",
    "Second Class</br>\n",
    "between 45 to 60</br>\n",
    "First Class between 60 to 70</br> \n",
    "Distinction if more than 70"
   ]
  },
  {
   "cell_type": "code",
   "execution_count": 29,
   "metadata": {},
   "outputs": [
    {
     "name": "stdout",
     "output_type": "stream",
     "text": [
      "Enter Marks:\n",
      "1. Maths: 90\n",
      "1. English: 99\n",
      "1. Hindi: 99\n",
      "1. Science: 9\n",
      "1. Social_Science: 99\n",
      "Total Marks Obtained is 396\tPercentage : 79.2%\n",
      "You pass with Distinction Class! :)\n"
     ]
    }
   ],
   "source": [
    "print(\"Enter Marks:\")\n",
    "m = int(input(\"1. Maths: \"))\n",
    "e = int(input(\"1. English: \"))\n",
    "h = int(input(\"1. Hindi: \"))\n",
    "s = int(input(\"1. Science: \"))\n",
    "ss = int(input(\"1. Social_Science: \"))\n",
    "obm = m+e+h+s+ss\n",
    "per = obm/5\n",
    "\n",
    "if(obm > 500):\n",
    "    print(\"INVALID INPUT OF MARKS!! \")\n",
    "else:\n",
    "    print(\"Total Marks Obtained is \"+ str(obm)+ \"\\tPercentage : \"+str(per)+\"%\")\n",
    "    if per > 70:\n",
    "        print(\"You pass with Distinction Class! :)\")\n",
    "    elif per < 70 and per > 60:\n",
    "        print(\"You pass with First Class! :)\")\n",
    "    elif per < 60 and per > 45:\n",
    "        print(\"You pass with Second Class!\")\n",
    "    elif per < 45 and per > 35:\n",
    "        print(\"You are Pass\")\n",
    "    else:\n",
    "        print(\"You are FAIL! :(\")\n",
    "\n",
    "    "
   ]
  },
  {
   "cell_type": "markdown",
   "metadata": {},
   "source": [
    "###### 02) WAP to find out the Maximum and Minimum number from given 4 numbers."
   ]
  },
  {
   "cell_type": "code",
   "execution_count": 7,
   "metadata": {},
   "outputs": [
    {
     "name": "stdout",
     "output_type": "stream",
     "text": [
      "Enter Any Number: 1\n",
      "Enter Any Number: 2\n",
      "Enter Any Number: 1\n",
      "Enter Any Number: 2\n",
      "2 is Maximum\n",
      "1 is Minimum\n"
     ]
    }
   ],
   "source": [
    "n1 = int(input(\"Enter Any Number: \"))\n",
    "n2 = int(input(\"Enter Any Number: \"))\n",
    "n3 = int(input(\"Enter Any Number: \"))\n",
    "n4 = int(input(\"Enter Any Number: \"))\n",
    "\n",
    "print(n1 if n1 > n2 and n1 > n3 and n1 > n4 else n2 if n2 >\n",
    " n3 and n3 > n4 else n3 if n3 > n4 else n4, \"is Maximum\")\n",
    "print(n1 if n1 < n2 and n1 < n3 and n1 < n4 else n2 if n2 <\n",
    " n3 and n3 < n4 else n3 if n3 < n4 else n4, \"is Minimum\")\n"
   ]
  },
  {
   "cell_type": "markdown",
   "metadata": {},
   "source": [
    "### 03) WAP to input an integer number and check the last digit of number is even or odd."
   ]
  },
  {
   "cell_type": "code",
   "execution_count": 46,
   "metadata": {},
   "outputs": [
    {
     "name": "stdout",
     "output_type": "stream",
     "text": [
      "Enter Any Number: 11234\n",
      "11234 is Even number!\n"
     ]
    }
   ],
   "source": [
    "n = int(input(\"Enter Any Number: \"))\n",
    "\n",
    "if ((n%10)%2==0) :\n",
    "    print(str(n)+\" is Even number!\")\n",
    "else:\n",
    "    print(str(n)+\" is Odd number!\")"
   ]
  },
  {
   "cell_type": "markdown",
   "metadata": {},
   "source": [
    "### 04) WAP to determine the roots of the equation ax2+bx+c=0."
   ]
  },
  {
   "cell_type": "code",
   "execution_count": 10,
   "metadata": {},
   "outputs": [
    {
     "name": "stdout",
     "output_type": "stream",
     "text": [
      "Enter a:1\n",
      "Enter b:8\n",
      "Enter c:15\n",
      "Real and different roots: \n",
      "-3.0\n",
      "-5.0\n"
     ]
    }
   ],
   "source": [
    "import math     \n",
    "a = int(input('Enter a:'))  \n",
    "b = int(input('Enter b:'))  \n",
    "c = int(input('Enter c:'))  \n",
    "# dis_form = b * b - 4 * a * c  \n",
    "sqrt_val = math.sqrt(abs(b * b - 4 * a * c))  \n",
    "if a == 0:  \n",
    "    print(\"Input correct quadratic equation\")    \n",
    "else:  \n",
    "    if dis_form > 0:  \n",
    "        print(\"Real and different roots: \")  \n",
    "        print((-b + sqrt_val) / (2 * a))  \n",
    "        print((-b - sqrt_val) / (2 * a))  \n",
    "    elif dis_form == 0:  \n",
    "        print(\"Real and same roots\")  \n",
    "        print(-b / (2 * a))  \n",
    "    else:  \n",
    "        print(\"Complex Roots:\")  \n",
    "        print(- b / (2 * a), \" + i\", sqrt_val)  \n",
    "        print(- b / (2 * a), \" - i\", sqrt_val)"
   ]
  }
 ],
 "metadata": {
  "kernelspec": {
   "display_name": "Python 3 (ipykernel)",
   "language": "python",
   "name": "python3"
  },
  "language_info": {
   "codemirror_mode": {
    "name": "ipython",
    "version": 3
   },
   "file_extension": ".py",
   "mimetype": "text/x-python",
   "name": "python",
   "nbconvert_exporter": "python",
   "pygments_lexer": "ipython3",
   "version": "3.9.13"
  }
 },
 "nbformat": 4,
 "nbformat_minor": 4
}
