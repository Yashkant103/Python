{
 "cells": [
  {
   "cell_type": "markdown",
   "metadata": {},
   "source": [
    "### Yashkant Prasad\n",
    "#### 21010101148"
   ]
  },
  {
   "cell_type": "markdown",
   "metadata": {},
   "source": [
    "\n",
    "<a href='https://www.darshan.ac.in/'> <img src='https://www.darshan.ac.in/Content/media/DU_Logo.svg' width=\"250\" height=\"300\"/></a>\n",
    "<pre>\n",
    "<center><b><h1>Python Programming - 2101CS405</b></center>\n",
    "<center><b><h1>Lab - 5</b></center>    \n",
    "<pre>"
   ]
  },
  {
   "cell_type": "markdown",
   "metadata": {},
   "source": [
    "# List"
   ]
  },
  {
   "cell_type": "markdown",
   "metadata": {},
   "source": [
    "### 01) WAP to find sum of all the elements in List."
   ]
  },
  {
   "cell_type": "code",
   "execution_count": 53,
   "metadata": {},
   "outputs": [
    {
     "name": "stdout",
     "output_type": "stream",
     "text": [
      "Enter Size of List: 5\n",
      "\n",
      "\n",
      "Enter Element:12\n",
      "Enter Element:21\n",
      "Enter Element:334\n",
      "Enter Element:545\n",
      "Enter Element:12\n",
      "\n",
      "List :: \t [12, 21, 334, 545, 12]\n",
      "\n",
      "Sum of Elements in list is:  924\n"
     ]
    }
   ],
   "source": [
    "li  = []\n",
    "n = int(input(\"Enter Size of List: \"))\n",
    "print(\"\\n\")\n",
    "for i in range(1, n+1):\n",
    "    li.append(int(input(\"Enter Element:\")))\n",
    "print(\"\\nList :: \\t\", li)\n",
    "sum =0\n",
    "for j in li:\n",
    "    sum = sum + j\n",
    "print(\"\\nSum of Elements in list is: \", sum)"
   ]
  },
  {
   "cell_type": "markdown",
   "metadata": {},
   "source": [
    "### 02) WAP to find largest element in a List."
   ]
  },
  {
   "cell_type": "code",
   "execution_count": 51,
   "metadata": {},
   "outputs": [
    {
     "name": "stdout",
     "output_type": "stream",
     "text": [
      "Enter Size of List: 5\n",
      "\n",
      "\n",
      "Enter Elements:1\n",
      "Enter Elements:2\n",
      "Enter Elements:3\n",
      "Enter Elements:23\n",
      "Enter Elements:4\n",
      "\n",
      "List :: \t [1, 2, 3, 23, 4]\n",
      "\n",
      "Largest element of list is  23\n"
     ]
    }
   ],
   "source": [
    "li  = []\n",
    "n = int(input(\"Enter Size of List: \"))\n",
    "print(\"\\n\")\n",
    "for i in range(1, n+1):\n",
    "    li.append(int(input(\"Enter Elements:\")))\n",
    "print(\"\\nList :: \\t\", li)\n",
    "# temp = li[0]\n",
    "# for j in li:\n",
    "#     if j > temp:\n",
    "#         temp = j\n",
    "# temp\n",
    "print(\"\\nLargest element of list is \" ,max(li))"
   ]
  },
  {
   "cell_type": "markdown",
   "metadata": {},
   "source": [
    "### 03) WAP to split the List into two and append the first part to the end."
   ]
  },
  {
   "cell_type": "code",
   "execution_count": 52,
   "metadata": {},
   "outputs": [
    {
     "name": "stdout",
     "output_type": "stream",
     "text": [
      "Enter Size of List: 5\n",
      "\n",
      "\n",
      "Enter Elements:12\n",
      "Enter Elements:34\n",
      "Enter Elements:65\n",
      "Enter Elements:23\n",
      "Enter Elements:545\n",
      "\n",
      "List :: \t [12, 34, 65, 23, 545]\n",
      "\n",
      "New List :: \t [65, 23, 545, 12, 34]\n"
     ]
    }
   ],
   "source": [
    "n = int(input(\"Enter Size of List: \"))\n",
    "li  = []\n",
    "print(\"\\n\")\n",
    "for i in range(1, n+1):\n",
    "    li.append(int(input(\"Enter Elements:\")))\n",
    "print(\"\\nList :: \\t\", li)\n",
    "mid  = len(li) // 2\n",
    "li = li[mid:] + li[:mid]\n",
    "print(\"\\nNew List :: \\t\", li)"
   ]
  },
  {
   "cell_type": "markdown",
   "metadata": {},
   "source": [
    "### 04) WAP to interchange first and last elements in list entered by a user."
   ]
  },
  {
   "cell_type": "code",
   "execution_count": 49,
   "metadata": {},
   "outputs": [
    {
     "name": "stdout",
     "output_type": "stream",
     "text": [
      "Enter Size of List: 5\n",
      "\n",
      "\n",
      "Enter Element:1\n",
      "Enter Element:2\n",
      "Enter Element:3\n",
      "Enter Element:4\n",
      "Enter Element:5\n",
      "\n",
      "List :: \t [1, 2, 3, 4, 5]\n",
      "\n",
      "New List :: \t [5, 2, 3, 4, 1]\n"
     ]
    }
   ],
   "source": [
    "n = int(input(\"Enter Size of List: \"))\n",
    "li  = []\n",
    "print(\"\\n\")\n",
    "for i in range(1, n+1):\n",
    "    li.append(int(input(\"Enter Element:\")))\n",
    "print(\"\\nList :: \\t\", li)\n",
    "temp=li[0]\n",
    "li[0]=li[n-1]\n",
    "li[n-1]=temp\n",
    "\n",
    "print(\"\\nNew List :: \\t\", li)"
   ]
  },
  {
   "cell_type": "markdown",
   "metadata": {},
   "source": [
    "#### 05) WAP to interchange the elements on two positions entered by a user."
   ]
  },
  {
   "cell_type": "code",
   "execution_count": 62,
   "metadata": {},
   "outputs": [
    {
     "name": "stdout",
     "output_type": "stream",
     "text": [
      "Enter Size of List: 4\n",
      "\n",
      "\n",
      "Enter Element:12\n",
      "Enter Element:34\n",
      "Enter Element:56\n",
      "Enter Element:67\n",
      "\n",
      "List :: \t [12, 34, 56, 67]\n",
      "\n",
      "Enter first position : 1\n",
      "Enter second position : 3\n",
      "\n",
      "New List :: \t [56, 34, 12, 67]\n"
     ]
    }
   ],
   "source": [
    "n = int(input(\"Enter Size of List: \"))\n",
    "li  = []\n",
    "print(\"\\n\")\n",
    "for i in range(1, n+1):\n",
    "    li.append(int(input(\"Enter Element:\")))\n",
    "print(\"\\nList :: \\t\", li) \n",
    "first=int(input(\"\\nEnter first position : \"))\n",
    "last=int(input(\"Enter second position : \"))\n",
    "\n",
    "temp=li[first-1]\n",
    "li[first-1]=li[last-1]\n",
    "li[last-1]=temp\n",
    "print(\"\\nNew List :: \\t\", li)"
   ]
  },
  {
   "cell_type": "markdown",
   "metadata": {},
   "source": [
    "### 06) WAP to reverses the list entered by user."
   ]
  },
  {
   "cell_type": "code",
   "execution_count": 64,
   "metadata": {},
   "outputs": [
    {
     "name": "stdout",
     "output_type": "stream",
     "text": [
      "Enter Size of List: 4\n",
      "\n",
      "\n",
      "Enter Element:2\n",
      "Enter Element:34\n",
      "Enter Element:56\n",
      "Enter Element:8\n",
      "\n",
      "List :: \t [2, 34, 56, 8]\n",
      "Reverse of List is:  [8, 56, 34, 2]\n"
     ]
    }
   ],
   "source": [
    "n = int(input(\"Enter Size of List: \"))\n",
    "li  = []\n",
    "print(\"\\n\")\n",
    "for i in range(1, n+1):\n",
    "    li.append(int(input(\"Enter Element:\")))\n",
    "print(\"\\nList :: \\t\", li)\n",
    "print(\"Reverse of List is: \", li[:: -1])"
   ]
  },
  {
   "cell_type": "markdown",
   "metadata": {},
   "source": [
    "### 07) Python program to remove multiple elements from a list using list comprehension"
   ]
  },
  {
   "cell_type": "code",
   "execution_count": 70,
   "metadata": {},
   "outputs": [
    {
     "name": "stdout",
     "output_type": "stream",
     "text": [
      "Enter Size of List: 6\n",
      "\n",
      "\n",
      "Enter Element:212\n",
      "Enter Element:345\n",
      "Enter Element:679\n",
      "Enter Element:12\n",
      "Enter Element:3\n",
      "Enter Element:45\n",
      "\n",
      "List :: \t [212, 345, 679, 12, 3, 45]\n",
      "New list of only even elements\n",
      "\n",
      "New List :: \t [212, 12]\n"
     ]
    }
   ],
   "source": [
    "# removing all odd elements\n",
    "n = int(input(\"Enter Size of List: \"))\n",
    "li  = []\n",
    "print(\"\\n\")\n",
    "for i in range(1, n+1):\n",
    "    li.append(int(input(\"Enter Element:\")))\n",
    "print(\"\\nList :: \\t\", li)\n",
    "print(\"New list of only even elements\")\n",
    "temp = [i for i in li if(i%2 == 0)]\n",
    "print(\"\\nNew List :: \\t\", temp)"
   ]
  },
  {
   "cell_type": "markdown",
   "metadata": {},
   "source": [
    "### 08) Create a list from the specified start to end index of another list."
   ]
  },
  {
   "cell_type": "code",
   "execution_count": 74,
   "metadata": {},
   "outputs": [
    {
     "name": "stdout",
     "output_type": "stream",
     "text": [
      "Enter Size of List: 9\n",
      "\n",
      "\n",
      "Enter Element:12\n",
      "Enter Element:3\n",
      "Enter Element:4\n",
      "Enter Element:5\n",
      "Enter Element:6\n",
      "Enter Element:7\n",
      "Enter Element:8\n",
      "Enter Element:9\n",
      "Enter Element:1\n",
      "\n",
      "List :: \t [12, 3, 4, 5, 6, 7, 8, 9, 1]\n",
      "Index starts from 1\n",
      "\n",
      "Enter start index: 3\n",
      "Enter end index: 8\n",
      "\n",
      "New List :: \t [4, 5, 6, 7, 8, 9]\n"
     ]
    }
   ],
   "source": [
    "n = int(input(\"Enter Size of List: \"))\n",
    "li  = []\n",
    "print(\"\\n\")\n",
    "for i in range(1, n+1):\n",
    "    li.append(int(input(\"Enter Element:\")))\n",
    "print(\"\\nList :: \\t\", li)\n",
    "print(\"Index starts from 1\\n\")\n",
    "c=int(input(\"Enter start index: \"))\n",
    "d=int(input(\"Enter end index: \"))\n",
    "temp=[]\n",
    "for i in range(c-1,d):\n",
    "    temp.append(li[i])\n",
    "print(\"\\nNew List :: \\t\", temp)"
   ]
  },
  {
   "cell_type": "markdown",
   "metadata": {},
   "source": [
    "### 09) Input comma separated elements, convert into list and print."
   ]
  },
  {
   "cell_type": "code",
   "execution_count": 79,
   "metadata": {},
   "outputs": [
    {
     "name": "stdout",
     "output_type": "stream",
     "text": [
      "Enter comma separated element: 12,334,123,67\n",
      "Your string is 12,334,123,67\n",
      "\n",
      "List :: \t ['12', '334', '123', '67']\n",
      "\n",
      "New formated List :: \t [12, 334, 123, 67]\n"
     ]
    }
   ],
   "source": [
    "string=str(input(\"Enter comma separated element: \"))\n",
    "print(\"Your string is\",string)\n",
    "\n",
    "list=string.split(\",\")\n",
    "print(\"\\nList :: \\t\", list)\n",
    "\n",
    "temp=[]\n",
    "\n",
    "for i in list:\n",
    "    temp.append(int(i))\n",
    "print(\"\\nNew formated List :: \\t\", temp)   "
   ]
  },
  {
   "cell_type": "markdown",
   "metadata": {},
   "source": [
    "### 10) WAP to count Even and Odd numbers in a List."
   ]
  },
  {
   "cell_type": "code",
   "execution_count": 86,
   "metadata": {},
   "outputs": [
    {
     "name": "stdout",
     "output_type": "stream",
     "text": [
      "Enter Size of List: 6\n",
      "\n",
      "\n",
      "Enter Element:21\n",
      "Enter Element:43\n",
      "Enter Element:56\n",
      "Enter Element:878\n",
      "Enter Element:23\n",
      "Enter Element:33\n",
      "\n",
      "List :: \t [21, 43, 56, 878, 23, 33]\n",
      "\n",
      "No. of Odd elements are 4\n",
      "No. of Even elements are 2\n"
     ]
    }
   ],
   "source": [
    "n = int(input(\"Enter Size of List: \"))\n",
    "li  = []\n",
    "print(\"\\n\")\n",
    "for i in range(1, n+1):\n",
    "    li.append(int(input(\"Enter Element:\")))\n",
    "print(\"\\nList :: \\t\", li)\n",
    "\n",
    "even=0 \n",
    "odd=0\n",
    "\n",
    "for i in li:\n",
    "    if i%2==0:\n",
    "        even=even+1\n",
    "    elif i%2!=0:\n",
    "        odd=odd+1  \n",
    "\n",
    "print(\"\\nNo. of Odd elements are\", odd)\n",
    "print(\"No. of Even elements are\", even)"
   ]
  },
  {
   "cell_type": "markdown",
   "metadata": {},
   "source": [
    "### 11) Python program to find N largest and smallest elements from the list"
   ]
  },
  {
   "cell_type": "code",
   "execution_count": 88,
   "metadata": {},
   "outputs": [
    {
     "name": "stdout",
     "output_type": "stream",
     "text": [
      "Enter Size of List: 5\n",
      "\n",
      "\n",
      "Enter Element:12\n",
      "Enter Element:23\n",
      "Enter Element:3534\n",
      "Enter Element:534634\n",
      "Enter Element:456\n",
      "\n",
      "List :: \t [12, 23, 3534, 534634, 456]\n",
      "\n",
      "Enter how many largest and smallest elements you need2\n",
      "\n",
      "Largest elemets are:  [534634, 3534]\n",
      "Smallest elemets are:  [12, 23]\n"
     ]
    }
   ],
   "source": [
    "n = int(input(\"Enter Size of List: \"))\n",
    "li  = []\n",
    "print(\"\\n\")\n",
    "for i in range(1, n+1):\n",
    "    li.append(int(input(\"Enter Element:\")))\n",
    "print(\"\\nList :: \\t\", li)\n",
    "p=int(input(\"\\nEnter how many largest and smallest elements you need\"))\n",
    "li.sort()\n",
    "larg=li[::-1]\n",
    "print(\"\\nLargest elemets are: \",larg[0:p])\n",
    "print(\"Smallest elemets are: \",li[0:p])"
   ]
  },
  {
   "cell_type": "markdown",
   "metadata": {},
   "source": [
    "#### 12) WAP to print duplicates from a list of integers"
   ]
  },
  {
   "cell_type": "code",
   "execution_count": 91,
   "metadata": {},
   "outputs": [
    {
     "name": "stdout",
     "output_type": "stream",
     "text": [
      "Enter Size of List: 6\n",
      "\n",
      "\n",
      "Enter Element:12\n",
      "Enter Element:34\n",
      "Enter Element:56\n",
      "Enter Element:12\n",
      "Enter Element:34\n",
      "Enter Element:9\n",
      "\n",
      "List :: \t [12, 34, 56, 12, 34, 9]\n",
      "\n",
      "Duplicate Elements are:  [12, 34]\n"
     ]
    }
   ],
   "source": [
    "n = int(input(\"Enter Size of List: \"))\n",
    "list  = []\n",
    "print(\"\\n\")\n",
    "for i in range(1, n+1):\n",
    "    list.append(int(input(\"Enter Element:\")))\n",
    "print(\"\\nList :: \\t\", list)\n",
    "list.sort()\n",
    "duplicate=[]\n",
    "for i in range(0,n):\n",
    "    for j in range(i+1,n):\n",
    "        if list[i]==list[j] and list[i] not in duplicate:\n",
    "            duplicate.append(list[i])\n",
    "print(\"\\nDuplicate Elements are: \",duplicate)"
   ]
  }
 ],
 "metadata": {
  "kernelspec": {
   "display_name": "Python 3 (ipykernel)",
   "language": "python",
   "name": "python3"
  },
  "language_info": {
   "codemirror_mode": {
    "name": "ipython",
    "version": 3
   },
   "file_extension": ".py",
   "mimetype": "text/x-python",
   "name": "python",
   "nbconvert_exporter": "python",
   "pygments_lexer": "ipython3",
   "version": "3.9.12"
  }
 },
 "nbformat": 4,
 "nbformat_minor": 4
}
