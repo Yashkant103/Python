{
 "cells": [
  {
   "cell_type": "markdown",
   "metadata": {},
   "source": [
    "#### Yaskant Prasad\n",
    "##### 21010101148"
   ]
  },
  {
   "cell_type": "markdown",
   "metadata": {},
   "source": [
    "<a href='https://www.darshan.ac.in/'> <img src='https://www.darshan.ac.in/Content/media/DU_Logo.svg' width=\"250\" height=\"300\"/></a>\n",
    "<pre>\n",
    "<center><b><h1>Python Programming - 2101CS405</b></center>\n",
    "<center><b><h1>Lab - 9</b></center>    \n",
    "<pre>"
   ]
  },
  {
   "cell_type": "markdown",
   "metadata": {},
   "source": [
    "# Exception Handling"
   ]
  },
  {
   "cell_type": "markdown",
   "metadata": {},
   "source": [
    "# A"
   ]
  },
  {
   "cell_type": "markdown",
   "metadata": {},
   "source": [
    "### 01) WAP to handle divide by zero exception."
   ]
  },
  {
   "cell_type": "code",
   "execution_count": 2,
   "metadata": {},
   "outputs": [
    {
     "name": "stdout",
     "output_type": "stream",
     "text": [
      "Enter Number : 78\n",
      "Can't Divide By Zero!!\n"
     ]
    }
   ],
   "source": [
    "try:\n",
    "    num1 = int(input(\"Enter Number : \"))\n",
    "    ans = num1/0\n",
    "except ZeroDivisionError:\n",
    "    print(\"Can't Divide By Zero!!\")"
   ]
  },
  {
   "cell_type": "markdown",
   "metadata": {},
   "source": [
    "### 02)  Write a Python program that inputs a number and generates an error message if it is not a number."
   ]
  },
  {
   "cell_type": "code",
   "execution_count": 15,
   "metadata": {},
   "outputs": [
    {
     "name": "stdout",
     "output_type": "stream",
     "text": [
      "Enter Number : POP\n",
      "Enter Valid Number,  invalid literal for int() with base 10: 'POP'\n"
     ]
    }
   ],
   "source": [
    "try:\n",
    "    num1 = int(input(\"Enter Number : \"))\n",
    "except ValueError as e:\n",
    "    print(\"Enter Valid Number, \", e)\n",
    "else:\n",
    "    print(\"Number is :\", num1)"
   ]
  },
  {
   "cell_type": "markdown",
   "metadata": {},
   "source": [
    "### 03) WAP to handle file not found Exception"
   ]
  },
  {
   "cell_type": "code",
   "execution_count": 12,
   "metadata": {},
   "outputs": [
    {
     "name": "stdout",
     "output_type": "stream",
     "text": [
      "File Does Not Exist,  [Errno 2] No such file or directory: 'abc.txt'\n"
     ]
    }
   ],
   "source": [
    "try:\n",
    "    f = open(\"abc.txt\",\"r\")  #\n",
    "except FileNotFoundError as e:\n",
    "    print(\"File Does Not Exist, \", e)"
   ]
  },
  {
   "cell_type": "markdown",
   "metadata": {},
   "source": [
    "### 04) WAP to handle type Exception."
   ]
  },
  {
   "cell_type": "code",
   "execution_count": 11,
   "metadata": {},
   "outputs": [
    {
     "name": "stdout",
     "output_type": "stream",
     "text": [
      "Invalid Datatype, can only concatenate str (not \"int\") to str\n"
     ]
    }
   ],
   "source": [
    "try:\n",
    "    ans = \"abc\" + 9\n",
    "except TypeError as e:\n",
    "#     print(e)\n",
    "    print(\"Invalid Datatype,\", e)"
   ]
  },
  {
   "cell_type": "markdown",
   "metadata": {},
   "source": [
    "### 05) WAP to demonstrate valueError and indexError with example."
   ]
  },
  {
   "cell_type": "code",
   "execution_count": 21,
   "metadata": {},
   "outputs": [
    {
     "name": "stdout",
     "output_type": "stream",
     "text": [
      "Enter Number : 123456\n",
      "list index out of range\n"
     ]
    }
   ],
   "source": [
    "try:\n",
    "    n = int(input(\"Enter Number : \"))\n",
    "    li = []\n",
    "    li.append(n)\n",
    "    print(li[1])\n",
    "except (ValueError,IndexError) as e:\n",
    "    print(e)\n",
    "#     print(\"ValueError & IndexError Exception Raised\")"
   ]
  },
  {
   "cell_type": "markdown",
   "metadata": {},
   "source": [
    "### 06) WAP to domonstrate else  and finally block."
   ]
  },
  {
   "cell_type": "code",
   "execution_count": 30,
   "metadata": {},
   "outputs": [
    {
     "name": "stdout",
     "output_type": "stream",
     "text": [
      "Enter Number : 74\n",
      "else Block Excuted\n",
      "Result 148\n",
      "Finally Block Excuted\n"
     ]
    }
   ],
   "source": [
    "try:\n",
    "    n = int(input(\"Enter Number : \"))\n",
    "    #ans = n+\"vxdkKD\"      #to raise Typen error\n",
    "    ans = n+n\n",
    "except TypeError as e:\n",
    "    print(\"Invalid Datatype,\",e)\n",
    "else:\n",
    "    print(\"else Block Excuted\")\n",
    "    print(\"Result:\",ans)\n",
    "finally:\n",
    "    print(\"Finally Block Excuted\")"
   ]
  },
  {
   "cell_type": "markdown",
   "metadata": {},
   "source": [
    "### 07) Create a short program that prompts the user for a list of grades separated by commas. Split the string into individual grades and use a list comprehension to convert each string to an integer. You should use a try statement to inform the user when the values they entered cannot be converted."
   ]
  },
  {
   "cell_type": "code",
   "execution_count": 33,
   "metadata": {},
   "outputs": [
    {
     "name": "stdout",
     "output_type": "stream",
     "text": [
      "Enter List Of Marks Seperated By Comma : 78f,s24,3ad,234,\n",
      "Value Can't Converted, invalid literal for int() with base 10: '78f'\n"
     ]
    }
   ],
   "source": [
    "try:\n",
    "    marks = input(\"Enter List Of Marks Seperated By Comma : \").split(\",\")\n",
    "    list1 = [int(x) for x in marks]\n",
    "except ValueError as e:\n",
    "    print(\"Value Can't Converted,\",e)\n",
    "else:\n",
    "    print(list1)"
   ]
  },
  {
   "cell_type": "markdown",
   "metadata": {},
   "source": [
    "# B"
   ]
  },
  {
   "cell_type": "markdown",
   "metadata": {},
   "source": [
    "### 01) WAP to Raising User Generated Exception."
   ]
  },
  {
   "cell_type": "code",
   "execution_count": 44,
   "metadata": {},
   "outputs": [
    {
     "name": "stdout",
     "output_type": "stream",
     "text": [
      "Enter Positive Number : -45\n",
      "Number Is Negative :(\n"
     ]
    }
   ],
   "source": [
    "try:\n",
    "    n = int(input(\"Enter Positive Number : \"))\n",
    "    if n>0:  \n",
    "        pass\n",
    "    else:\n",
    "        raise ValueError\n",
    "except ValueError:\n",
    "    print(\"Number Is Negative :(\")\n",
    "else:\n",
    "    print(\"Number Entered is\",n)"
   ]
  },
  {
   "cell_type": "markdown",
   "metadata": {},
   "source": [
    "### 02) WAP to raise your custom Exception."
   ]
  },
  {
   "cell_type": "code",
   "execution_count": 53,
   "metadata": {},
   "outputs": [
    {
     "name": "stdout",
     "output_type": "stream",
     "text": [
      "Enter Odd Number : 78\n",
      "Even Number Entered!!\n"
     ]
    }
   ],
   "source": [
    "class OddNumberException(Exception):\n",
    "    pass\n",
    "try:\n",
    "    num1 = int(input(\"Enter Odd Number : \"))\n",
    "    if num1%2!=0:\n",
    "        print(num1)\n",
    "    else:\n",
    "        raise OddNumberException\n",
    "except OddNumberException:\n",
    "    print(\"Even Number Entered!!\")"
   ]
  },
  {
   "cell_type": "code",
   "execution_count": null,
   "metadata": {},
   "outputs": [],
   "source": []
  }
 ],
 "metadata": {
  "kernelspec": {
   "display_name": "Python 3 (ipykernel)",
   "language": "python",
   "name": "python3"
  },
  "language_info": {
   "codemirror_mode": {
    "name": "ipython",
    "version": 3
   },
   "file_extension": ".py",
   "mimetype": "text/x-python",
   "name": "python",
   "nbconvert_exporter": "python",
   "pygments_lexer": "ipython3",
   "version": "3.9.12"
  }
 },
 "nbformat": 4,
 "nbformat_minor": 4
}
